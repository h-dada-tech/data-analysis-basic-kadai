{
  "nbformat": 4,
  "nbformat_minor": 0,
  "metadata": {
    "colab": {
      "provenance": []
    },
    "kernelspec": {
      "name": "python3",
      "display_name": "Python 3"
    },
    "language_info": {
      "name": "python"
    }
  },
  "cells": [
    {
      "cell_type": "code",
      "execution_count": 10,
      "metadata": {
        "colab": {
          "base_uri": "https://localhost:8080/"
        },
        "id": "V5ZYq1AkM9e9",
        "outputId": "48ec33e7-df70-430e-cf6a-e0c0e98e4f40"
      },
      "outputs": [
        {
          "output_type": "stream",
          "name": "stdout",
          "text": [
            "[[ 4  5  6  7]\n",
            " [12 17 22 27]\n",
            " [20 29 38 47]]\n",
            "47\n"
          ]
        }
      ],
      "source": [
        "# ライブラリを追加する\n",
        "import numpy as np\n",
        "\n",
        "# 行列A、Bを作成する\n",
        "A = np.array([[0, 1], [2, 3], [4, 5]])\n",
        "B = np.array([[0, 1, 2, 3], [4, 5, 6,7]])\n",
        "\n",
        "# 行列の積を計算する\n",
        "np.dot(A, B)\n",
        "dot = np.dot(A, B)\n",
        "\n",
        "# 計算結果を表示する\n",
        "print(dot)\n",
        "\n",
        "# 行列の要素の最大値を求める\n",
        "dot_max = np.max(dot)\n",
        "\n",
        "# 計算結果を表示する\n",
        "print(dot_max)"
      ]
    },
    {
      "cell_type": "code",
      "source": [],
      "metadata": {
        "id": "ZFyUvM-APq13"
      },
      "execution_count": null,
      "outputs": []
    }
  ]
}